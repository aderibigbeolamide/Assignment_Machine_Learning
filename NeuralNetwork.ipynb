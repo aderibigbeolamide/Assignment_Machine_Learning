{
  "cells": [
    {
      "cell_type": "markdown",
      "metadata": {
        "id": "view-in-github",
        "colab_type": "text"
      },
      "source": [
        "<a href=\"https://colab.research.google.com/github/aderibigbeolamide/Assignment_Machine_Learning/blob/main/NeuralNetwork.ipynb\" target=\"_parent\"><img src=\"https://colab.research.google.com/assets/colab-badge.svg\" alt=\"Open In Colab\"/></a>"
      ]
    },
    {
      "cell_type": "code",
      "execution_count": 1,
      "metadata": {
        "id": "dDjE2BjYzGHs"
      },
      "outputs": [],
      "source": [
        "import numpy as np\n",
        "from keras.datasets import mnist\n",
        "import matplotlib.pyplot as plt\n",
        "from sklearn.datasets import fetch_openml\n",
        "from sklearn.model_selection import train_test_split\n",
        "from sklearn.preprocessing import OneHotEncoder"
      ]
    },
    {
      "cell_type": "markdown",
      "metadata": {
        "id": "BB7Fg80KzUpc"
      },
      "source": [
        "###Problem 1"
      ]
    },
    {
      "cell_type": "code",
      "execution_count": 13,
      "metadata": {
        "colab": {
          "base_uri": "https://localhost:8080/"
        },
        "id": "sV8Bs1XQzAOW",
        "outputId": "4fa476a8-af2d-4e7a-f0b7-bf42107f98f7"
      },
      "outputs": [
        {
          "output_type": "stream",
          "name": "stdout",
          "text": [
            "epoch: 1, loss: 0.6588\n",
            "epoch: 2, loss: 0.3969\n",
            "epoch: 3, loss: 0.3429\n",
            "epoch: 4, loss: 0.3191\n",
            "epoch: 5, loss: 0.2947\n",
            "epoch: 6, loss: 0.2760\n",
            "epoch: 7, loss: 0.2609\n",
            "epoch: 8, loss: 0.2454\n",
            "epoch: 9, loss: 0.2305\n",
            "epoch: 10, loss: 0.2216\n",
            "Accuracy on test data: 0.9324\n"
          ]
        }
      ],
      "source": [
        "class GetMiniBatch:\n",
        "    \"\"\"\n",
        "    Iterator to get a mini-batch\n",
        "\n",
        "    Parameters\n",
        "    ----------\n",
        "    X : ndarray, shape (n_samples, n_features)\n",
        "      Training data\n",
        "    y : ndarray, shape (n_samples,)\n",
        "      Correct answer value\n",
        "    batch_size : int\n",
        "      Batch size\n",
        "    seed : int\n",
        "      NumPy random seed\n",
        "    \"\"\"\n",
        "    def __init__(self, X, y, batch_size=20, seed=0):\n",
        "        self.batch_size = batch_size\n",
        "        np.random.seed(seed)\n",
        "        shuffle_index = np.random.permutation(np.arange(X.shape[0]))\n",
        "        self._X = X[shuffle_index]\n",
        "        self._y = y[shuffle_index]\n",
        "        self._stop = np.ceil(X.shape[0] / self.batch_size).astype(int)\n",
        "\n",
        "    def __len__(self):\n",
        "        return self._stop\n",
        "\n",
        "    def __getitem__(self, item):\n",
        "        p0 = item * self.batch_size\n",
        "        p1 = item * self.batch_size + self.batch_size\n",
        "        return self._X[p0:p1], self._y[p0:p1]\n",
        "\n",
        "    def __iter__(self):\n",
        "        self._counter = 0\n",
        "        return self\n",
        "\n",
        "    def __next__(self):\n",
        "        if self._counter >= self._stop:\n",
        "            raise StopIteration()\n",
        "        p0 = self._counter * self.batch_size\n",
        "        p1 = self._counter * self.batch_size + self.batch_size\n",
        "        self._counter += 1\n",
        "        return self._X[p0:p1], self._y[p0:p1]\n",
        "\n",
        "class ScratchSimpleNeuralNetworkClassifier:\n",
        "    \"\"\"\n",
        "    Simple three-layer neural network classifier\n",
        "\n",
        "    Parameters\n",
        "    ----------\n",
        "    verbose : bool\n",
        "        Whether to output the learning process\n",
        "\n",
        "    Attributes\n",
        "    ----------\n",
        "    \"\"\"\n",
        "\n",
        "    def __init__(self, verbose=True):\n",
        "        self.verbose = verbose\n",
        "        self.train_losses = []\n",
        "        self.val_losses = []\n",
        "\n",
        "    def _initialize_weights(self, n_features, n_nodes1, n_nodes2, n_output, sigma=0.01):\n",
        "        self.params = {}\n",
        "        self.params['W1'] = sigma * np.random.randn(n_features, n_nodes1)\n",
        "        self.params['b1'] = np.zeros(n_nodes1)\n",
        "        self.params['W2'] = sigma * np.random.randn(n_nodes1, n_nodes2)\n",
        "        self.params['b2'] = np.zeros(n_nodes2)\n",
        "        self.params['W3'] = sigma * np.random.randn(n_nodes2, n_output)\n",
        "        self.params['b3'] = np.zeros(n_output)\n",
        "\n",
        "    def _cross_entropy_error(self, Z3, Y):\n",
        "        batch_size = len(Y)\n",
        "        return -np.sum(Y * np.log(Z3 + 1e-7)) / batch_size\n",
        "\n",
        "\n",
        "    def _softmax(self, x):\n",
        "        exp_x = np.exp(x - np.max(x, axis=1, keepdims=True))\n",
        "        return exp_x / np.sum(exp_x, axis=1, keepdims=True)\n",
        "\n",
        "    def _cross_entropy_error(self, y_pred, y_true):\n",
        "        delta = 1e-7\n",
        "        batch_size = y_pred.shape[0]\n",
        "        return -np.sum(y_true * np.log(y_pred + delta)) / batch_size\n",
        "\n",
        "    def _forward(self, X):\n",
        "        A1 = np.dot(X, self.params['W1']) + self.params['b1']\n",
        "        Z1 = np.tanh(A1)\n",
        "        A2 = np.dot(Z1, self.params['W2']) + self.params['b2']\n",
        "        Z2 = np.tanh(A2)\n",
        "        A3 = np.dot(Z2, self.params['W3']) + self.params['b3']\n",
        "        Z3 = self._softmax(A3)\n",
        "        return Z3, {'Z1': Z1, 'Z2': Z2, 'Z3': Z3}\n",
        "\n",
        "    def _backward(self, X, y, Z):\n",
        "        grads = {}\n",
        "        batch_size = X.shape[0]\n",
        "        dA3 = (Z['Z3'] - y) / batch_size\n",
        "        grads['W3'] = np.dot(Z['Z2'].T, dA3)\n",
        "        grads['b3'] = np.sum(dA3, axis=0)\n",
        "        dZ2 = np.dot(dA3, self.params['W3'].T)\n",
        "        dA2 = dZ2 * (1 - np.tanh(Z['Z2']) ** 2)\n",
        "        grads['W2'] = np.dot(Z['Z1'].T, dA2)\n",
        "        grads['b2'] = np.sum(dA2, axis=0)\n",
        "        dZ1 = np.dot(dA2, self.params['W2'].T)\n",
        "        dA1 = dZ1 * (1 - np.tanh(Z['Z1']) ** 2)\n",
        "        grads['W1'] = np.dot(X.T, dA1)\n",
        "        grads['b1'] = np.sum(dA1, axis=0)\n",
        "        return grads\n",
        "\n",
        "    def fit(self, X, y, X_val=None, y_val=None, epochs=10, batch_size=20, lr=0.01):\n",
        "        n_features = X.shape[1]\n",
        "        n_nodes1 = 400\n",
        "        n_nodes2 = 200\n",
        "        n_output = 10\n",
        "\n",
        "        self._initialize_weights(n_features, n_nodes1, n_nodes2, n_output)\n",
        "\n",
        "        for epoch in range(epochs):\n",
        "            get_mini_batch = GetMiniBatch(X, y, batch_size=batch_size, seed=epoch)\n",
        "            for mini_X_train, mini_y_train in get_mini_batch:\n",
        "                Z, cache = self._forward(mini_X_train)\n",
        "                grads = self._backward(mini_X_train, mini_y_train, cache)\n",
        "                for key in self.params.keys():\n",
        "                    self.params[key] -= lr * grads[key]\n",
        "\n",
        "            y_pred_train, _ = self._forward(X)\n",
        "            train_loss = self._cross_entropy_error(y_pred_train, y)\n",
        "            self.train_losses.append(train_loss)\n",
        "\n",
        "            if X_val is not None and y_val is not None:\n",
        "                y_pred_val, _ = self._forward(X_val)\n",
        "                val_loss = self._cross_entropy_error(y_pred_val, y_val)\n",
        "                self.val_losses.append(val_loss)\n",
        "\n",
        "            if self.verbose:\n",
        "                print(f'epoch: {epoch+1}, loss: {train_loss:.4f}')\n",
        "\n",
        "    def predict(self, X):\n",
        "        Z, _ = self._forward(X)\n",
        "        return np.argmax(Z, axis=1)\n",
        "\n",
        "\n",
        "(X_train, y_train), (X_test, y_test) = mnist.load_data()\n",
        "\n",
        "\n",
        "X_train = X_train.reshape(-1, 784)\n",
        "X_test = X_test.reshape(-1, 784)\n",
        "\n",
        "\n",
        "X_train = X_train.astype(float) / 255\n",
        "X_test = X_test.astype(float) / 255\n",
        "\n",
        "\n",
        "enc = OneHotEncoder(sparse_output=False)\n",
        "y_train_one_hot = enc.fit_transform(y_train[:, np.newaxis])\n",
        "y_test_one_hot = enc.transform(y_test[:, np.newaxis])\n",
        "\n",
        "\n",
        "X_train, X_val, y_train_one_hot, y_val_one_hot = train_test_split(X_train, y_train_one_hot, test_size=0.2)\n",
        "\n",
        "\n",
        "nn = ScratchSimpleNeuralNetworkClassifier()\n",
        "nn.fit(X_train, y_train_one_hot, X_val, y_val_one_hot, epochs=10, batch_size=20, lr=0.01)\n",
        "\n",
        "\n",
        "y_pred = nn.predict(X_test)\n",
        "\n",
        "\n",
        "accuracy = np.sum(y_pred == y_test) / len(y_test)\n",
        "print(f'Accuracy on test data: {accuracy:.4f}')"
      ]
    },
    {
      "cell_type": "markdown",
      "metadata": {
        "id": "Yl_oC43lCj7H"
      },
      "source": [
        "###Problem 2"
      ]
    },
    {
      "cell_type": "code",
      "execution_count": 3,
      "metadata": {
        "colab": {
          "base_uri": "https://localhost:8080/"
        },
        "id": "KXXNgV694YSS",
        "outputId": "d7bf872d-bd2e-4756-b1b8-ac8c6a23d0e8"
      },
      "outputs": [
        {
          "output_type": "stream",
          "name": "stdout",
          "text": [
            "Shape of Z3: (20, 10)\n"
          ]
        }
      ],
      "source": [
        "class ForwardPropagation:\n",
        "    def __init__(self):\n",
        "        pass\n",
        "\n",
        "    def sigmoid(self, x):\n",
        "        return 1 / (1 + np.exp(-x))\n",
        "\n",
        "    def tanh(self, x):\n",
        "        return np.tanh(x)\n",
        "\n",
        "    def softmax(self, x):\n",
        "        exp_x = np.exp(x - np.max(x, axis=1, keepdims=True))\n",
        "        return exp_x / np.sum(exp_x, axis=1, keepdims=True)\n",
        "\n",
        "    def forward(self, X, W1, b1, W2, b2, W3, b3):\n",
        "        A1 = np.dot(X, W1) + b1\n",
        "        Z1 = self.tanh(A1)\n",
        "\n",
        "        A2 = np.dot(Z1, W2) + b2\n",
        "        Z2 = self.tanh(A2)\n",
        "\n",
        "        A3 = np.dot(Z2, W3) + b3\n",
        "        Z3 = self.softmax(A3)\n",
        "\n",
        "        return Z3\n",
        "\n",
        "\n",
        "n_features = 784\n",
        "n_nodes1 = 400\n",
        "n_nodes2 = 200\n",
        "n_output = 10\n",
        "\n",
        "\n",
        "np.random.seed(0)\n",
        "W1 = np.random.randn(n_features, n_nodes1)\n",
        "b1 = np.zeros(n_nodes1)\n",
        "W2 = np.random.randn(n_nodes1, n_nodes2)\n",
        "b2 = np.zeros(n_nodes2)\n",
        "W3 = np.random.randn(n_nodes2, n_output)\n",
        "b3 = np.zeros(n_output)\n",
        "\n",
        "\n",
        "batch_size = 20\n",
        "X = np.random.randn(batch_size, n_features)\n",
        "\n",
        "\n",
        "forward_propagation = ForwardPropagation()\n",
        "\n",
        "\n",
        "Z3 = forward_propagation.forward(X, W1, b1, W2, b2, W3, b3)\n",
        "print(\"Shape of Z3:\", Z3.shape)"
      ]
    },
    {
      "cell_type": "markdown",
      "metadata": {
        "id": "TQith8SMCxtL"
      },
      "source": [
        "###Problem 3"
      ]
    },
    {
      "cell_type": "code",
      "execution_count": 4,
      "metadata": {
        "colab": {
          "base_uri": "https://localhost:8080/"
        },
        "id": "P2UIxJOY4sux",
        "outputId": "585588d9-ad36-4bfa-ebff-38bc10cc31b2"
      },
      "outputs": [
        {
          "output_type": "stream",
          "name": "stdout",
          "text": [
            "Cross-entropy error: 0.3242868875758864\n"
          ]
        }
      ],
      "source": [
        "class ForwardPropagation:\n",
        "    def __init__(self):\n",
        "        pass\n",
        "\n",
        "    def sigmoid(self, x):\n",
        "        return 1 / (1 + np.exp(-x))\n",
        "\n",
        "    def tanh(self, x):\n",
        "        return np.tanh(x)\n",
        "\n",
        "    def softmax(self, x):\n",
        "        exp_x = np.exp(x - np.max(x, axis=1, keepdims=True))\n",
        "        return exp_x / np.sum(exp_x, axis=1, keepdims=True)\n",
        "\n",
        "    def forward(self, X, W1, b1, W2, b2, W3, b3):\n",
        "        A1 = np.dot(X, W1) + b1\n",
        "        Z1 = self.tanh(A1)\n",
        "\n",
        "        A2 = np.dot(Z1, W2) + b2\n",
        "        Z2 = self.tanh(A2)\n",
        "\n",
        "        A3 = np.dot(Z2, W3) + b3\n",
        "        Z3 = self.softmax(A3)\n",
        "\n",
        "        return Z3\n",
        "\n",
        "    def cross_entropy_error(self, y_true, Z3):\n",
        "        batch_size = y_true.shape[0]\n",
        "        return -np.sum(y_true * np.log(Z3 + 1e-7)) / batch_size\n",
        "\n",
        "\n",
        "forward_propagation = ForwardPropagation()\n",
        "\n",
        "\n",
        "y_true = np.array([[0, 1, 0],\n",
        "                    [1, 0, 0],\n",
        "                    [0, 0, 1]])\n",
        "\n",
        "\n",
        "Z3 = np.array([[0.1, 0.7, 0.2],\n",
        "                [0.9, 0.05, 0.05],\n",
        "                [0.2, 0.2, 0.6]])\n",
        "\n",
        "\n",
        "error = forward_propagation.cross_entropy_error(y_true, Z3)\n",
        "print(\"Cross-entropy error:\", error)"
      ]
    },
    {
      "cell_type": "markdown",
      "metadata": {
        "id": "ihVsNGd_MXm-"
      },
      "source": [
        "###Problem 4"
      ]
    },
    {
      "cell_type": "code",
      "execution_count": 5,
      "metadata": {
        "colab": {
          "base_uri": "https://localhost:8080/"
        },
        "id": "J-gTMd555Db7",
        "outputId": "38ee35e5-fb5f-407e-d9d7-e775278e4bdb"
      },
      "outputs": [
        {
          "output_type": "stream",
          "name": "stdout",
          "text": [
            "Gradient of loss with respect to W1: (784, 400)\n"
          ]
        }
      ],
      "source": [
        "class BackPropagation:\n",
        "    def __init__(self):\n",
        "        pass\n",
        "\n",
        "    def sigmoid_derivative(self, A):\n",
        "        return A * (1 - A)\n",
        "\n",
        "    def tanh_derivative(self, A):\n",
        "        return 1 - np.tanh(A)**2\n",
        "\n",
        "    def backward(self, X, Z1, Z2, Z3, y_true, W2, W3):\n",
        "        nb_samples = X.shape[0]\n",
        "\n",
        "\n",
        "        dL_dA3 = (1 / nb_samples) * (Z3 - y_true)\n",
        "\n",
        "\n",
        "        dL_dB3 = np.sum(dL_dA3, axis=0)\n",
        "\n",
        "\n",
        "        dL_dW3 = np.dot(Z2.T, dL_dA3)\n",
        "\n",
        "\n",
        "        dL_dZ2 = np.dot(dL_dA3, W3.T)\n",
        "\n",
        "\n",
        "        dL_dA2 = dL_dZ2 * self.tanh_derivative(Z2)\n",
        "\n",
        "\n",
        "        dL_dB2 = np.sum(dL_dA2, axis=0)\n",
        "\n",
        "\n",
        "        dL_dW2 = np.dot(Z1.T, dL_dA2)\n",
        "\n",
        "\n",
        "        dL_dZ1 = np.dot(dL_dA2, W2.T)\n",
        "\n",
        "\n",
        "        dL_dA1 = dL_dZ1 * self.tanh_derivative(Z1)\n",
        "\n",
        "\n",
        "        dL_dB1 = np.sum(dL_dA1, axis=0)\n",
        "\n",
        "\n",
        "        dL_dW1 = np.dot(X.T, dL_dA1)\n",
        "\n",
        "        return {'W1': dL_dW1, 'B1': dL_dB1, 'W2': dL_dW2, 'B2': dL_dB2, 'W3': dL_dW3, 'B3': dL_dB3}\n",
        "\n",
        "\n",
        "back_propagation = BackPropagation()\n",
        "\n",
        "\n",
        "X = np.random.rand(20, 784)\n",
        "Z1 = np.random.rand(20, 400)\n",
        "Z2 = np.random.rand(20, 200)\n",
        "Z3 = np.random.rand(20, 10)\n",
        "y_true = np.random.rand(20, 10)\n",
        "\n",
        "\n",
        "W2 = np.random.rand(400, 200)\n",
        "W3 = np.random.rand(200, 10)\n",
        "\n",
        "\n",
        "gradients = back_propagation.backward(X, Z1, Z2, Z3, y_true, W2, W3)\n",
        "\n",
        "\n",
        "print(\"Gradient of loss with respect to W1:\", gradients['W1'].shape)"
      ]
    },
    {
      "cell_type": "markdown",
      "metadata": {
        "id": "9-jBg-eSC228"
      },
      "source": [
        "###Problem 5"
      ]
    },
    {
      "cell_type": "code",
      "execution_count": 6,
      "metadata": {
        "colab": {
          "base_uri": "https://localhost:8080/"
        },
        "id": "32HLKBbC59CH",
        "outputId": "45617880-674d-4ff6-d301-c59f083cbcc6"
      },
      "outputs": [
        {
          "output_type": "stream",
          "name": "stdout",
          "text": [
            "Predicted classes: [3 7 9 7 0 6 4 2 3 2 5 7 6 2 1 7 6 6 5 7]\n"
          ]
        }
      ],
      "source": [
        "class Estimation:\n",
        "    def __init__(self):\n",
        "        pass\n",
        "\n",
        "    def estimate(self, Z3):\n",
        "\n",
        "        predicted_classes = np.argmax(Z3, axis=1)\n",
        "        return predicted_classes\n",
        "\n",
        "\n",
        "estimation = Estimation()\n",
        "\n",
        "\n",
        "Z3 = np.random.rand(20, 10)\n",
        "\n",
        "\n",
        "predicted_classes = estimation.estimate(Z3)\n",
        "\n",
        "\n",
        "print(\"Predicted classes:\", predicted_classes)"
      ]
    },
    {
      "cell_type": "markdown",
      "metadata": {
        "id": "B65ET7IvC7R0"
      },
      "source": [
        "###Problem 6"
      ]
    },
    {
      "cell_type": "code",
      "execution_count": 7,
      "metadata": {
        "colab": {
          "base_uri": "https://localhost:8080/"
        },
        "id": "B5q2YXRw7HXc",
        "outputId": "b4c49d6e-ac70-438e-a9a1-79b2c429cb6e"
      },
      "outputs": [
        {
          "output_type": "stream",
          "name": "stdout",
          "text": [
            "epoch: 1, loss: 0.6878\n",
            "epoch: 2, loss: 0.4052\n",
            "epoch: 3, loss: 0.3453\n",
            "epoch: 4, loss: 0.3139\n",
            "epoch: 5, loss: 0.2950\n",
            "epoch: 6, loss: 0.2698\n",
            "epoch: 7, loss: 0.2611\n",
            "epoch: 8, loss: 0.2459\n",
            "epoch: 9, loss: 0.2312\n",
            "epoch: 10, loss: 0.2191\n",
            "Accuracy on test data: 0.9360\n"
          ]
        }
      ],
      "source": [
        "nn = ScratchSimpleNeuralNetworkClassifier()\n",
        "\n",
        "\n",
        "nn.fit(X_train, y_train_one_hot, X_val, y_val_one_hot, epochs=10, batch_size=20, lr=0.01)\n",
        "\n",
        "\n",
        "y_pred = nn.predict(X_test)\n",
        "\n",
        "\n",
        "accuracy = np.sum(y_pred == y_test) / len(y_test)\n",
        "print(f'Accuracy on test data: {accuracy:.4f}')"
      ]
    },
    {
      "cell_type": "markdown",
      "metadata": {
        "id": "KJ_V4ADEE0Jm"
      },
      "source": [
        "###Problem 7"
      ]
    },
    {
      "cell_type": "code",
      "execution_count": 14,
      "metadata": {
        "colab": {
          "base_uri": "https://localhost:8080/",
          "height": 656
        },
        "id": "fcOQ0PmYEtnF",
        "outputId": "ee306188-bfd7-423d-b853-fd518f08ace9"
      },
      "outputs": [
        {
          "output_type": "stream",
          "name": "stdout",
          "text": [
            "epoch: 1, loss: 0.6675\n",
            "epoch: 2, loss: 0.4105\n",
            "epoch: 3, loss: 0.3460\n",
            "epoch: 4, loss: 0.3164\n",
            "epoch: 5, loss: 0.2891\n",
            "epoch: 6, loss: 0.2711\n",
            "epoch: 7, loss: 0.2564\n",
            "epoch: 8, loss: 0.2422\n",
            "epoch: 9, loss: 0.2277\n",
            "epoch: 10, loss: 0.2204\n"
          ]
        },
        {
          "output_type": "display_data",
          "data": {
            "text/plain": [
              "<Figure size 640x480 with 1 Axes>"
            ],
            "image/png": "[encoded data removed]"
          },
          "metadata": {}
        }
      ],
      "source": [
        "nn = ScratchSimpleNeuralNetworkClassifier()\n",
        "\n",
        "\n",
        "nn.fit(X_train, y_train_one_hot, X_val, y_val_one_hot, epochs=10, batch_size=20, lr=0.01)\n",
        "\n",
        "\n",
        "plt.plot(range(1, 11), nn.train_losses, label='Training Loss')\n",
        "plt.plot(range(1, 11), nn.val_losses, label='Validation Loss')\n",
        "plt.xlabel('Epochs')\n",
        "plt.ylabel('Loss')\n",
        "plt.title('Learning Curve')\n",
        "plt.legend()\n",
        "plt.show()"
      ]
    }
  ],
  "metadata": {
    "colab": {
      "provenance": [],
      "authorship_tag": "ABX9TyPQzkJQTdqq2yLW/cgqeyWh",
      "include_colab_link": true
    },
    "kernelspec": {
      "display_name": "Python 3",
      "name": "python3"
    },
    "language_info": {
      "name": "python"
    }
  },
  "nbformat": 4,
  "nbformat_minor": 0
}