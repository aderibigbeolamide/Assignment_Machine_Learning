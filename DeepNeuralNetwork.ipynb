{
  "nbformat": 4,
  "nbformat_minor": 0,
  "metadata": {
    "colab": {
      "provenance": [],
      "authorship_tag": "ABX9TyPGYgZSb6l79byLRHfNAplT",
      "include_colab_link": true
    },
    "kernelspec": {
      "name": "python3",
      "display_name": "Python 3"
    },
    "language_info": {
      "name": "python"
    }
  },
  "cells": [
    {
      "cell_type": "markdown",
      "metadata": {
        "id": "view-in-github",
        "colab_type": "text"
      },
      "source": [
        "<a href=\"https://colab.research.google.com/github/aderibigbeolamide/Assignment_Machine_Learning/blob/main/DeepNeuralNetwork.ipynb\" target=\"_parent\"><img src=\"https://colab.research.google.com/assets/colab-badge.svg\" alt=\"Open In Colab\"/></a>"
      ]
    },
    {
      "cell_type": "code",
      "source": [
        "import numpy as np\n",
        "import matplotlib.pyplot as plt\n",
        "from keras.datasets import mnist\n",
        "import matplotlib.pyplot as plt\n",
        "from sklearn.datasets import fetch_openml\n",
        "from keras.datasets import mnist\n",
        "from sklearn.metrics import accuracy_score\n",
        "from sklearn.model_selection import train_test_split\n",
        "from sklearn.preprocessing import OneHotEncoder\n",
        "from sklearn.preprocessing import StandardScaler\n",
        "from sklearn.datasets import fetch_openml"
      ],
      "metadata": {
        "id": "jN1kHdc2yZ96"
      },
      "execution_count": 9,
      "outputs": []
    },
    {
      "cell_type": "markdown",
      "source": [
        "###Problem"
      ],
      "metadata": {
        "id": "cQbqTbhbPGcD"
      }
    },
    {
      "cell_type": "code",
      "execution_count": null,
      "metadata": {
        "id": "WDvA88JuedDx"
      },
      "outputs": [],
      "source": [
        "class FC:\n",
        "    \"\"\"\n",
        "    Fully connected layer from n_nodes1 to n_nodes2\n",
        "    Parameters\n",
        "    ----------\n",
        "    n_nodes1 : int\n",
        "      Number of nodes in the previous layer\n",
        "    n_nodes2 : int\n",
        "      Number of nodes in the later layer\n",
        "    initializer: instance of initialization method\n",
        "    optimizer: instance of optimization method\n",
        "    \"\"\"\n",
        "    def __init__(self, n_nodes1, n_nodes2, initializer, optimizer):\n",
        "        self.optimizer = optimizer\n",
        "        self.W = initializer.W(n_nodes1, n_nodes2)\n",
        "        self.B = initializer.B(n_nodes2)\n",
        "\n",
        "    def forward(self, X):\n",
        "        \"\"\"\n",
        "        Forward pass\n",
        "        Parameters\n",
        "        ----------\n",
        "        X : ndarray, shape (batch_size, n_nodes1)\n",
        "            Input\n",
        "        Returns\n",
        "        ----------\n",
        "        A : ndarray, shape (batch_size, n_nodes2)\n",
        "            Output\n",
        "        \"\"\"\n",
        "        self.X = X\n",
        "        self.A = np.dot(X, self.W) + self.B\n",
        "        return self.A\n",
        "\n",
        "    def backward(self, dA):\n",
        "        \"\"\"\n",
        "        Backward pass\n",
        "        Parameters\n",
        "        ----------\n",
        "        dA : ndarray, shape (batch_size, n_nodes2)\n",
        "            Gradient flowing from the next layer\n",
        "        Returns\n",
        "        ----------\n",
        "        dZ : ndarray, shape (batch_size, n_nodes1)\n",
        "            Gradient to flow backward\n",
        "        \"\"\"\n",
        "        dZ = np.dot(dA, self.W.T)\n",
        "        dW = np.dot(self.X.T, dA)\n",
        "        dB = np.sum(dA, axis=0, keepdims=True)\n",
        "\n",
        "        self.W, self.B = self.optimizer.update(self.W, self.B, dW, dB)\n",
        "\n",
        "        return dZ"
      ]
    },
    {
      "cell_type": "markdown",
      "source": [
        "###Problem 2"
      ],
      "metadata": {
        "id": "ElO2HRDn-mr-"
      }
    },
    {
      "cell_type": "code",
      "source": [
        "class ThreeLayerNN:\n",
        "    def __init__(self, n_features, n_nodes1, n_nodes2, n_output, initializer, optimizer):\n",
        "        self.fc1 = FC(n_features, n_nodes1, initializer, optimizer)\n",
        "        self.fc2 = FC(n_nodes1, n_nodes2, initializer, optimizer)\n",
        "        self.fc3 = FC(n_nodes2, n_output, initializer, optimizer)\n",
        "\n",
        "    def sigmoid(self, A):\n",
        "        return 1 / (1 + np.exp(-A))\n",
        "\n",
        "    def tanh(self, A):\n",
        "        return np.tanh(A)\n",
        "\n",
        "    def softmax(self, A):\n",
        "        expA = np.exp(A)\n",
        "        return expA / np.sum(expA, axis=1, keepdims=True)\n",
        "\n",
        "    def forward(self, X):\n",
        "        A1 = self.fc1.forward(X)\n",
        "        Z1 = self.sigmoid(A1)\n",
        "\n",
        "        A2 = self.fc2.forward(Z1)\n",
        "        Z2 = self.tanh(A2)\n",
        "\n",
        "        A3 = self.fc3.forward(Z2)\n",
        "        Z3 = self.softmax(A3)\n",
        "\n",
        "        return Z3"
      ],
      "metadata": {
        "id": "R6j2jLHl9tJf"
      },
      "execution_count": 1,
      "outputs": []
    },
    {
      "cell_type": "markdown",
      "source": [
        "###Problem 3"
      ],
      "metadata": {
        "id": "kYBY7Zl2-qXE"
      }
    },
    {
      "cell_type": "code",
      "source": [
        "class CrossEntropyLoss:\n",
        "    def __init__(self):\n",
        "        pass\n",
        "\n",
        "    def calculate_loss(self, Y, Z3):\n",
        "\n",
        "        epsilon = 1e-7\n",
        "\n",
        "\n",
        "        batch_size = Y.shape[1]\n",
        "\n",
        "\n",
        "        individual_losses = -np.sum(Y * np.log(Z3 + epsilon))\n",
        "\n",
        "\n",
        "        average_loss = individual_losses / batch_size\n",
        "\n",
        "        return average_loss"
      ],
      "metadata": {
        "id": "BmCKTaVI-pm-"
      },
      "execution_count": 2,
      "outputs": []
    },
    {
      "cell_type": "markdown",
      "source": [
        "###Problem 4"
      ],
      "metadata": {
        "id": "mFy4eY3q_RJW"
      }
    },
    {
      "cell_type": "code",
      "source": [
        "class ThreeLayerNN:\n",
        "    def __init__(self, n_features, n_nodes1, n_nodes2, n_output, initializer, optimizer):\n",
        "        self.fc1 = FC(n_features, n_nodes1, initializer, optimizer)\n",
        "        self.fc2 = FC(n_nodes1, n_nodes2, initializer, optimizer)\n",
        "        self.fc3 = FC(n_nodes2, n_output, initializer, optimizer)\n",
        "\n",
        "    def sigmoid(self, A):\n",
        "        return 1 / (1 + np.exp(-A))\n",
        "\n",
        "    def tanh(self, A):\n",
        "        return np.tanh(A)\n",
        "\n",
        "    def softmax(self, A):\n",
        "        expA = np.exp(A)\n",
        "        return expA / np.sum(expA, axis=1, keepdims=True)\n",
        "\n",
        "    def forward(self, X):\n",
        "        A1 = self.fc1.forward(X)\n",
        "        Z1 = self.sigmoid(A1)\n",
        "\n",
        "        A2 = self.fc2.forward(Z1)\n",
        "        Z2 = self.tanh(A2)\n",
        "\n",
        "        A3 = self.fc3.forward(Z2)\n",
        "        Z3 = self.softmax(A3)\n",
        "\n",
        "        return Z3\n",
        "    def backward(self, X, Y, Z3):\n",
        "\n",
        "        dL_dA3 = (Z3 - Y) / X.shape[0]\n",
        "        dL_dB3 = np.sum(dL_dA3, axis=0, keepdims=True)\n",
        "        dL_dW3 = np.dot(self.fc2.A.T, dL_dA3)\n",
        "        dL_dZ2 = np.dot(dL_dA3, self.fc3.W.T)\n",
        "\n",
        "\n",
        "        dL_dA2 = dL_dZ2 * (1 - np.tanh(self.fc2.A)**2)\n",
        "        dL_dB2 = np.sum(dL_dA2, axis=0, keepdims=True)\n",
        "        dL_dW2 = np.dot(self.fc1.A.T, dL_dA2)\n",
        "        dL_dZ1 = np.dot(dL_dA2, self.fc2.W.T)\n",
        "\n",
        "\n",
        "        dL_dA1 = dL_dZ1 * (1 - np.tanh(self.fc1.A)**2)\n",
        "        dL_dB1 = np.sum(dL_dA1, axis=0, keepdims=True)\n",
        "        dL_dW1 = np.dot(X.T, dL_dA1)\n",
        "\n",
        "\n",
        "        self.fc1.W -= learning_rate * dL_dW1\n",
        "        self.fc1.B -= learning_rate * dL_dB1\n",
        "        self.fc2.W -= learning_rate * dL_dW2\n",
        "        self.fc2.B -= learning_rate * dL_dB2\n",
        "        self.fc3.W -= learning_rate * dL_dW3\n",
        "        self.fc3.B -= learning_rate * dL_dB3\n",
        "\n",
        "\n",
        "        return dL_dZ1"
      ],
      "metadata": {
        "id": "9ugHzIbj_P7_"
      },
      "execution_count": 3,
      "outputs": []
    },
    {
      "cell_type": "markdown",
      "source": [
        "###Problem 5"
      ],
      "metadata": {
        "id": "lys-m1RuAJYH"
      }
    },
    {
      "cell_type": "code",
      "source": [
        "class ThreeLayerNN:\n",
        "    def __init__(self, n_features, n_nodes1, n_nodes2, n_output, initializer, optimizer):\n",
        "        self.fc1 = FC(n_features, n_nodes1, initializer, optimizer)\n",
        "        self.fc2 = FC(n_nodes1, n_nodes2, initializer, optimizer)\n",
        "        self.fc3 = FC(n_nodes2, n_output, initializer, optimizer)\n",
        "\n",
        "    def sigmoid(self, A):\n",
        "        return 1 / (1 + np.exp(-A))\n",
        "\n",
        "    def tanh(self, A):\n",
        "        return np.tanh(A)\n",
        "\n",
        "    def softmax(self, A):\n",
        "        expA = np.exp(A)\n",
        "        return expA / np.sum(expA, axis=1, keepdims=True)\n",
        "\n",
        "    def forward(self, X):\n",
        "        A1 = self.fc1.forward(X)\n",
        "        Z1 = self.sigmoid(A1)\n",
        "\n",
        "        A2 = self.fc2.forward(Z1)\n",
        "        Z2 = self.tanh(A2)\n",
        "\n",
        "        A3 = self.fc3.forward(Z2)\n",
        "        Z3 = self.softmax(A3)\n",
        "\n",
        "        return Z3\n",
        "    def backward(self, X, Y, Z3):\n",
        "\n",
        "        dL_dA3 = (Z3 - Y) / X.shape[0]\n",
        "        dL_dB3 = np.sum(dL_dA3, axis=0, keepdims=True)\n",
        "        dL_dW3 = np.dot(self.fc2.A.T, dL_dA3)\n",
        "        dL_dZ2 = np.dot(dL_dA3, self.fc3.W.T)\n",
        "\n",
        "\n",
        "        dL_dA2 = dL_dZ2 * (1 - np.tanh(self.fc2.A)**2)\n",
        "        dL_dB2 = np.sum(dL_dA2, axis=0, keepdims=True)\n",
        "        dL_dW2 = np.dot(self.fc1.A.T, dL_dA2)\n",
        "        dL_dZ1 = np.dot(dL_dA2, self.fc2.W.T)\n",
        "\n",
        "\n",
        "        dL_dA1 = dL_dZ1 * (1 - np.tanh(self.fc1.A)**2)\n",
        "        dL_dB1 = np.sum(dL_dA1, axis=0, keepdims=True)\n",
        "        dL_dW1 = np.dot(X.T, dL_dA1)\n",
        "\n",
        "\n",
        "        self.fc1.W -= learning_rate * dL_dW1\n",
        "        self.fc1.B -= learning_rate * dL_dB1\n",
        "        self.fc2.W -= learning_rate * dL_dW2\n",
        "        self.fc2.B -= learning_rate * dL_dB2\n",
        "        self.fc3.W -= learning_rate * dL_dW3\n",
        "        self.fc3.B -= learning_rate * dL_dB3\n",
        "\n",
        "\n",
        "        return dL_dZ1\n",
        "    def estimate(self, X):\n",
        "\n",
        "        probabilities = self.forward(X)\n",
        "\n",
        "\n",
        "        predicted_labels = np.argmax(probabilities, axis=1)\n",
        "\n",
        "        return predicted_labels"
      ],
      "metadata": {
        "id": "4faZlkSCAICO"
      },
      "execution_count": 4,
      "outputs": []
    },
    {
      "cell_type": "markdown",
      "source": [
        "###Problem 6"
      ],
      "metadata": {
        "id": "Xpi6yIb7Ao25"
      }
    },
    {
      "cell_type": "code",
      "source": [
        "mnist = fetch_openml('mnist_784', version=1)\n",
        "X, y = mnist.data, mnist.target\n",
        "\n",
        "\n",
        "X_train, X_test, y_train, y_test = train_test_split(X, y, test_size=0.2, random_state=42)\n",
        "scaler = StandardScaler()\n",
        "X_train_scaled = scaler.fit_transform(X_train)\n",
        "X_test_scaled = scaler.transform(X_test)\n",
        "\n",
        "\n",
        "class ThreeLayerNN:\n",
        "    def __init__(self, n_features, n_nodes1, n_nodes2, n_output):\n",
        "        pass\n",
        "\n",
        "    def forward(self, X):\n",
        "        pass\n",
        "\n",
        "    def backward(self, X, Y, Z3):\n",
        "        loss = 0\n",
        "        return loss\n",
        "\n",
        "    def estimate(self, X):\n",
        "        pass\n",
        "\n",
        "\n",
        "model = ThreeLayerNN(n_features=X_train_scaled.shape[1], n_nodes1=400, n_nodes2=200, n_output=10)\n",
        "num_epochs = 50\n",
        "batch_size = 100\n",
        "for epoch in range(num_epochs):\n",
        "    for i in range(0, len(X_train_scaled), batch_size):\n",
        "        X_batch = X_train_scaled[i:i+batch_size]\n",
        "        y_batch = y_train[i:i+batch_size]\n",
        "        Y_batch = np.eye(10)[y_batch.astype(int)]\n",
        "        model.forward(X_batch)\n",
        "        model.backward(X_batch, Y_batch, model.forward(X_batch))\n",
        "\n",
        "\n",
        "predicted_labels = model.estimate(X_test_scaled)\n",
        "\n",
        "\n",
        "accuracy = np.mean(predicted_labels == y_test.astype(int))\n",
        "print(\"Accuracy:\", accuracy)"
      ],
      "metadata": {
        "id": "4NMmVLAbAmsu",
        "colab": {
          "base_uri": "https://localhost:8080/"
        },
        "outputId": "9ef1541f-433b-4202-e14f-c83513fca862"
      },
      "execution_count": 12,
      "outputs": [
        {
          "output_type": "stream",
          "name": "stderr",
          "text": [
            "/usr/local/lib/python3.10/dist-packages/sklearn/datasets/_openml.py:968: FutureWarning: The default value of `parser` will change from `'liac-arff'` to `'auto'` in 1.4. You can set `parser='auto'` to silence this warning. Therefore, an `ImportError` will be raised from 1.4 if the dataset is dense and pandas is not installed. Note that the pandas parser may return different data types. See the Notes Section in fetch_openml's API doc for details.\n",
            "  warn(\n"
          ]
        },
        {
          "output_type": "stream",
          "name": "stdout",
          "text": [
            "Accuracy: 0.0\n"
          ]
        }
      ]
    },
    {
      "cell_type": "markdown",
      "source": [
        "###Problem 7"
      ],
      "metadata": {
        "id": "vAdo97s2Bh_6"
      }
    },
    {
      "cell_type": "code",
      "source": [
        "train_losses = []\n",
        "val_losses = []\n",
        "\n",
        "\n",
        "for epoch in range(num_epochs):\n",
        "    train_loss = 0\n",
        "    for i in range(0, len(X_train_scaled), batch_size):\n",
        "        X_batch = X_train_scaled[i:i+batch_size]\n",
        "        y_batch = y_train[i:i+batch_size]\n",
        "        Y_batch = np.eye(n_output)[y_batch.astype(int)]\n",
        "        model.forward(X_batch)\n",
        "        train_loss += np.mean(model.backward(X_batch, Y_batch, model.forward(X_batch)))\n",
        "    train_losses.append(train_loss / len(X_train_scaled))\n",
        "\n",
        "\n",
        "    val_loss = 0\n",
        "    for i in range(0, len(X_test_scaled), batch_size):\n",
        "        X_val_batch = X_test_scaled[i:i+batch_size]\n",
        "        y_val_batch = y_test[i:i+batch_size]\n",
        "        Y_val_batch = np.eye(n_output)[y_val_batch.astype(int)]\n",
        "        val_loss += np.mean(model.backward(X_val_batch, Y_val_batch, model.forward(X_val_batch)))\n",
        "    val_losses.append(val_loss / len(X_test_scaled))\n",
        "\n",
        "\n",
        "plt.plot(range(1, num_epochs + 1), train_losses, label='Training Loss')\n",
        "plt.plot(range(1, num_epochs + 1), val_losses, label='Validation Loss')\n",
        "plt.xlabel('Epoch')\n",
        "plt.ylabel('Loss')\n",
        "plt.title('Learning Curve')\n",
        "plt.legend()\n",
        "plt.show()"
      ],
      "metadata": {
        "id": "cEjwleBCBepf",
        "colab": {
          "base_uri": "https://localhost:8080/",
          "height": 472
        },
        "outputId": "fc9629e7-f85a-4df7-e8bd-e4e4eccfb178"
      },
      "execution_count": 13,
      "outputs": [
        {
          "output_type": "display_data",
          "data": {
            "text/plain": [
              "<Figure size 640x480 with 1 Axes>"
            ],
            "image/png": "[encoded data removed]"
          },
          "metadata": {}
        }
      ]
    }
  ]
}